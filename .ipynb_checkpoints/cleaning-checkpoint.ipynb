{
 "cells": [
  {
   "cell_type": "code",
   "execution_count": 1,
   "id": "e9e87270",
   "metadata": {},
   "outputs": [],
   "source": [
    "import os\n",
    "import pandas as pd"
   ]
  },
  {
   "cell_type": "code",
   "execution_count": 2,
   "id": "64001e41",
   "metadata": {},
   "outputs": [
    {
     "data": {
      "text/html": [
       "<div>\n",
       "<style scoped>\n",
       "    .dataframe tbody tr th:only-of-type {\n",
       "        vertical-align: middle;\n",
       "    }\n",
       "\n",
       "    .dataframe tbody tr th {\n",
       "        vertical-align: top;\n",
       "    }\n",
       "\n",
       "    .dataframe thead th {\n",
       "        text-align: right;\n",
       "    }\n",
       "</style>\n",
       "<table border=\"1\" class=\"dataframe\">\n",
       "  <thead>\n",
       "    <tr style=\"text-align: right;\">\n",
       "      <th></th>\n",
       "      <th>Unnamed: 0</th>\n",
       "      <th>Title</th>\n",
       "      <th>Location</th>\n",
       "      <th>Price</th>\n",
       "      <th>Caractéristiques</th>\n",
       "      <th>Pieces</th>\n",
       "      <th>Description</th>\n",
       "      <th>Pictures</th>\n",
       "      <th>Télephone</th>\n",
       "    </tr>\n",
       "  </thead>\n",
       "  <tbody>\n",
       "    <tr>\n",
       "      <th>0</th>\n",
       "      <td>0</td>\n",
       "      <td>Villa 558 m² CIL proche marché à retaper\\n\\t\\t\\t</td>\n",
       "      <td>\\n\\t\\t\\t\\t\\tCIL (Hay Salam) à\\n\\t\\t\\t\\tCasabla...</td>\n",
       "      <td>8 600 000 DH\\n\\t\\t\\t\\t\\t\\t</td>\n",
       "      <td>[]</td>\n",
       "      <td>\\n\\n\\t\\t\\t\\t\\t558\\n\\t\\t\\t\\t\\tm²\\n\\t\\t\\t\\t\\n3 P...</td>\n",
       "      <td>Villa construite sur un terrain de 558 m², com...</td>\n",
       "      <td>['https://www.mubawab-media.com/ad/7/304/840F/...</td>\n",
       "      <td>06601XXXXX</td>\n",
       "    </tr>\n",
       "    <tr>\n",
       "      <th>1</th>\n",
       "      <td>1</td>\n",
       "      <td>Villa 1618 m² commerciale LCS proche Route de ...</td>\n",
       "      <td>\\n\\t\\t\\t\\t\\tCalifornie à\\n\\t\\t\\t\\tCasablanca\\n...</td>\n",
       "      <td>not defined</td>\n",
       "      <td>['Jardin', 'Garage', '\\n\\t\\t\\t\\t\\t\\t\\t\\t\\t\\t\\t...</td>\n",
       "      <td>\\n\\n\\t\\t\\t\\t\\t1618\\n\\t\\t\\t\\t\\tm²\\n\\t\\t\\t\\t\\n3 ...</td>\n",
       "      <td>Villa commerciale (angle), construite sur un t...</td>\n",
       "      <td>['https://www.mubawab-media.com/ad/7/304/830F/...</td>\n",
       "      <td>06601XXXXX</td>\n",
       "    </tr>\n",
       "    <tr>\n",
       "      <th>2</th>\n",
       "      <td>2</td>\n",
       "      <td>Villa 3688 m² 5 chambres à retaper IMPASSE\\n\\t...</td>\n",
       "      <td>\\n\\t\\t\\t\\t\\tAnfa à\\n\\t\\t\\t\\tCasablanca\\n\\t\\t\\t</td>\n",
       "      <td>53 000 000 DH\\n\\t\\t\\t\\t\\t\\t</td>\n",
       "      <td>['Piscine', 'Salon Marocain', 'Cheminée']</td>\n",
       "      <td>\\n\\n\\t\\t\\t\\t\\t3688\\n\\t\\t\\t\\t\\tm²\\n\\t\\t\\t\\t\\n3 ...</td>\n",
       "      <td>Villa construite sur un terrain de 3688 m², en...</td>\n",
       "      <td>['https://www.mubawab-media.com/ad/7/304/822F/...</td>\n",
       "      <td>06601XXXXX</td>\n",
       "    </tr>\n",
       "    <tr>\n",
       "      <th>3</th>\n",
       "      <td>3</td>\n",
       "      <td>Apt 185 m² 3ème étage Résidence RIO 3 chambres...</td>\n",
       "      <td>\\n\\t\\t\\t\\t\\tAin Diab à\\n\\t\\t\\t\\tCasablanca\\n\\t...</td>\n",
       "      <td>3 100 000 DH\\n\\t\\t\\t\\t\\t\\t</td>\n",
       "      <td>['Terrasse', 'Garage', 'Ascenseur', 'Piscine',...</td>\n",
       "      <td>\\n\\n\\t\\t\\t\\t\\t178\\n\\t\\t\\t\\t\\tm²\\n\\t\\t\\t\\t\\n3 P...</td>\n",
       "      <td>Apt de 185 m² (dont 12 m² de terrasse/garage),...</td>\n",
       "      <td>['https://www.mubawab-media.com/ad/6/211/103F/...</td>\n",
       "      <td>06601XXXXX</td>\n",
       "    </tr>\n",
       "    <tr>\n",
       "      <th>4</th>\n",
       "      <td>4</td>\n",
       "      <td>Apt 208 m² moderne 3 chambres terrasse ensolei...</td>\n",
       "      <td>\\n\\t\\t\\t\\t\\tRacine à\\n\\t\\t\\t\\tCasablanca\\n\\t\\t\\t</td>\n",
       "      <td>3 900 000 DH\\n\\t\\t\\t\\t\\t\\t</td>\n",
       "      <td>['Terrasse', 'Cheminée', '\\n\\t\\t\\t\\t\\t\\t\\t\\t\\t...</td>\n",
       "      <td>\\n\\n\\t\\t\\t\\t\\t208\\n\\t\\t\\t\\t\\tm²\\n\\t\\t\\t\\t\\n3 P...</td>\n",
       "      <td>Apt de 208 m² (dont 170 m² habitables), situé ...</td>\n",
       "      <td>['https://www.mubawab-media.com/ad/7/106/612F/...</td>\n",
       "      <td>06601XXXXX</td>\n",
       "    </tr>\n",
       "  </tbody>\n",
       "</table>\n",
       "</div>"
      ],
      "text/plain": [
       "   Unnamed: 0                                              Title  \\\n",
       "0           0   Villa 558 m² CIL proche marché à retaper\\n\\t\\t\\t   \n",
       "1           1  Villa 1618 m² commerciale LCS proche Route de ...   \n",
       "2           2  Villa 3688 m² 5 chambres à retaper IMPASSE\\n\\t...   \n",
       "3           3  Apt 185 m² 3ème étage Résidence RIO 3 chambres...   \n",
       "4           4  Apt 208 m² moderne 3 chambres terrasse ensolei...   \n",
       "\n",
       "                                            Location  \\\n",
       "0  \\n\\t\\t\\t\\t\\tCIL (Hay Salam) à\\n\\t\\t\\t\\tCasabla...   \n",
       "1  \\n\\t\\t\\t\\t\\tCalifornie à\\n\\t\\t\\t\\tCasablanca\\n...   \n",
       "2     \\n\\t\\t\\t\\t\\tAnfa à\\n\\t\\t\\t\\tCasablanca\\n\\t\\t\\t   \n",
       "3  \\n\\t\\t\\t\\t\\tAin Diab à\\n\\t\\t\\t\\tCasablanca\\n\\t...   \n",
       "4   \\n\\t\\t\\t\\t\\tRacine à\\n\\t\\t\\t\\tCasablanca\\n\\t\\t\\t   \n",
       "\n",
       "                         Price  \\\n",
       "0   8 600 000 DH\\n\\t\\t\\t\\t\\t\\t   \n",
       "1                  not defined   \n",
       "2  53 000 000 DH\\n\\t\\t\\t\\t\\t\\t   \n",
       "3   3 100 000 DH\\n\\t\\t\\t\\t\\t\\t   \n",
       "4   3 900 000 DH\\n\\t\\t\\t\\t\\t\\t   \n",
       "\n",
       "                                    Caractéristiques  \\\n",
       "0                                                 []   \n",
       "1  ['Jardin', 'Garage', '\\n\\t\\t\\t\\t\\t\\t\\t\\t\\t\\t\\t...   \n",
       "2          ['Piscine', 'Salon Marocain', 'Cheminée']   \n",
       "3  ['Terrasse', 'Garage', 'Ascenseur', 'Piscine',...   \n",
       "4  ['Terrasse', 'Cheminée', '\\n\\t\\t\\t\\t\\t\\t\\t\\t\\t...   \n",
       "\n",
       "                                              Pieces  \\\n",
       "0  \\n\\n\\t\\t\\t\\t\\t558\\n\\t\\t\\t\\t\\tm²\\n\\t\\t\\t\\t\\n3 P...   \n",
       "1  \\n\\n\\t\\t\\t\\t\\t1618\\n\\t\\t\\t\\t\\tm²\\n\\t\\t\\t\\t\\n3 ...   \n",
       "2  \\n\\n\\t\\t\\t\\t\\t3688\\n\\t\\t\\t\\t\\tm²\\n\\t\\t\\t\\t\\n3 ...   \n",
       "3  \\n\\n\\t\\t\\t\\t\\t178\\n\\t\\t\\t\\t\\tm²\\n\\t\\t\\t\\t\\n3 P...   \n",
       "4  \\n\\n\\t\\t\\t\\t\\t208\\n\\t\\t\\t\\t\\tm²\\n\\t\\t\\t\\t\\n3 P...   \n",
       "\n",
       "                                         Description  \\\n",
       "0  Villa construite sur un terrain de 558 m², com...   \n",
       "1  Villa commerciale (angle), construite sur un t...   \n",
       "2  Villa construite sur un terrain de 3688 m², en...   \n",
       "3  Apt de 185 m² (dont 12 m² de terrasse/garage),...   \n",
       "4  Apt de 208 m² (dont 170 m² habitables), situé ...   \n",
       "\n",
       "                                            Pictures   Télephone  \n",
       "0  ['https://www.mubawab-media.com/ad/7/304/840F/...  06601XXXXX  \n",
       "1  ['https://www.mubawab-media.com/ad/7/304/830F/...  06601XXXXX  \n",
       "2  ['https://www.mubawab-media.com/ad/7/304/822F/...  06601XXXXX  \n",
       "3  ['https://www.mubawab-media.com/ad/6/211/103F/...  06601XXXXX  \n",
       "4  ['https://www.mubawab-media.com/ad/7/106/612F/...  06601XXXXX  "
      ]
     },
     "execution_count": 2,
     "metadata": {},
     "output_type": "execute_result"
    }
   ],
   "source": [
    "all_data = pd.read_excel(r'/Users/Pro/Desktop/EtlProject_Web-Scraping/Mubawab_Vente/mubawabVente41-60.xlsx')\n",
    "all_data.head()"
   ]
  },
  {
   "cell_type": "code",
   "execution_count": 3,
   "id": "bb4d53d2",
   "metadata": {},
   "outputs": [
    {
     "data": {
      "text/plain": [
       "0       8 600 000 DH\\n\\t\\t\\t\\t\\t\\t\n",
       "1                      not defined\n",
       "2      53 000 000 DH\\n\\t\\t\\t\\t\\t\\t\n",
       "3       3 100 000 DH\\n\\t\\t\\t\\t\\t\\t\n",
       "4       3 900 000 DH\\n\\t\\t\\t\\t\\t\\t\n",
       "                  ...             \n",
       "622                    not defined\n",
       "623                    not defined\n",
       "624     1 120 000 DH\\n\\t\\t\\t\\t\\t\\t\n",
       "625                    not defined\n",
       "626                    not defined\n",
       "Name: Price, Length: 627, dtype: object"
      ]
     },
     "execution_count": 3,
     "metadata": {},
     "output_type": "execute_result"
    }
   ],
   "source": [
    "all_data['Price']"
   ]
  },
  {
   "cell_type": "code",
   "execution_count": 4,
   "id": "e986ccb5",
   "metadata": {},
   "outputs": [
    {
     "data": {
      "text/plain": [
       "0       8 600 000 DH\n",
       "1        not defined\n",
       "2      53 000 000 DH\n",
       "3       3 100 000 DH\n",
       "4       3 900 000 DH\n",
       "           ...      \n",
       "622      not defined\n",
       "623      not defined\n",
       "624     1 120 000 DH\n",
       "625      not defined\n",
       "626      not defined\n",
       "Name: Price, Length: 627, dtype: object"
      ]
     },
     "execution_count": 4,
     "metadata": {},
     "output_type": "execute_result"
    }
   ],
   "source": [
    "all_data['Price'] = all_data['Price'].apply(lambda x: x.strip(\"\\n\\t\\t\\t\\t\\t\\t\"))\n",
    "all_data['Price']"
   ]
  },
  {
   "cell_type": "code",
   "execution_count": 5,
   "id": "c27b2a53",
   "metadata": {},
   "outputs": [
    {
     "data": {
      "text/plain": [
       "0      \\n\\t\\t\\t\\t\\tCIL (Hay Salam) à\\n\\t\\t\\t\\tCasabla...\n",
       "1      \\n\\t\\t\\t\\t\\tCalifornie à\\n\\t\\t\\t\\tCasablanca\\n...\n",
       "2         \\n\\t\\t\\t\\t\\tAnfa à\\n\\t\\t\\t\\tCasablanca\\n\\t\\t\\t\n",
       "3      \\n\\t\\t\\t\\t\\tAin Diab à\\n\\t\\t\\t\\tCasablanca\\n\\t...\n",
       "4       \\n\\t\\t\\t\\t\\tRacine à\\n\\t\\t\\t\\tCasablanca\\n\\t\\t\\t\n",
       "                             ...                        \n",
       "622        \\n\\t\\t\\t\\t\\tMarjane à\\n\\t\\t\\t\\tTanger\\n\\t\\t\\t\n",
       "623       \\n\\t\\t\\t\\t\\tAl Kouass à\\n\\t\\t\\t\\tRabat\\n\\t\\t\\t\n",
       "624      \\n\\t\\t\\t\\t\\tOulfa à\\n\\t\\t\\t\\tCasablanca\\n\\t\\t\\t\n",
       "625    \\n\\t\\t\\t\\t\\tRacine Extension à\\n\\t\\t\\t\\tCasabl...\n",
       "626      \\n\\t\\t\\t\\t\\tOulfa à\\n\\t\\t\\t\\tCasablanca\\n\\t\\t\\t\n",
       "Name: Location, Length: 627, dtype: object"
      ]
     },
     "execution_count": 5,
     "metadata": {},
     "output_type": "execute_result"
    }
   ],
   "source": [
    "all_data['Location']"
   ]
  },
  {
   "cell_type": "code",
   "execution_count": 6,
   "id": "2dab332b",
   "metadata": {},
   "outputs": [
    {
     "data": {
      "text/plain": [
       "0       CIL (Hay Salam) à\\n\\t\\t\\t\\tCasablanca\n",
       "1            Californie à\\n\\t\\t\\t\\tCasablanca\n",
       "2                  Anfa à\\n\\t\\t\\t\\tCasablanca\n",
       "3              Ain Diab à\\n\\t\\t\\t\\tCasablanca\n",
       "4                Racine à\\n\\t\\t\\t\\tCasablanca\n",
       "                        ...                  \n",
       "622                 Marjane à\\n\\t\\t\\t\\tTanger\n",
       "623                Al Kouass à\\n\\t\\t\\t\\tRabat\n",
       "624               Oulfa à\\n\\t\\t\\t\\tCasablanca\n",
       "625    Racine Extension à\\n\\t\\t\\t\\tCasablanca\n",
       "626               Oulfa à\\n\\t\\t\\t\\tCasablanca\n",
       "Name: Location, Length: 627, dtype: object"
      ]
     },
     "execution_count": 6,
     "metadata": {},
     "output_type": "execute_result"
    }
   ],
   "source": [
    "all_data['Location'] = all_data['Location'].apply(lambda x: x.strip(\"\\n\\t\\t\\t\\t\\t\\t\"))\n",
    "all_data['Location']"
   ]
  },
  {
   "cell_type": "code",
   "execution_count": 7,
   "id": "cc6d2390",
   "metadata": {},
   "outputs": [
    {
     "data": {
      "text/plain": [
       "0       CIL (Hay Salam) à Casablanca\n",
       "1            Californie à Casablanca\n",
       "2                  Anfa à Casablanca\n",
       "3              Ain Diab à Casablanca\n",
       "4                Racine à Casablanca\n",
       "                   ...              \n",
       "622                 Marjane à Tanger\n",
       "623                Al Kouass à Rabat\n",
       "624               Oulfa à Casablanca\n",
       "625    Racine Extension à Casablanca\n",
       "626               Oulfa à Casablanca\n",
       "Name: Location, Length: 627, dtype: object"
      ]
     },
     "execution_count": 7,
     "metadata": {},
     "output_type": "execute_result"
    }
   ],
   "source": [
    "all_data['Location'] = all_data['Location'].str.replace(r'\\n\\t\\t\\t\\t',' ', regex=True)\n",
    "all_data['Location']"
   ]
  },
  {
   "cell_type": "code",
   "execution_count": 8,
   "id": "24e92435",
   "metadata": {},
   "outputs": [
    {
     "data": {
      "text/plain": [
       "0       Villa 558 m² CIL proche marché à retaper\\n\\t\\t\\t\n",
       "1      Villa 1618 m² commerciale LCS proche Route de ...\n",
       "2      Villa 3688 m² 5 chambres à retaper IMPASSE\\n\\t...\n",
       "3      Apt 185 m² 3ème étage Résidence RIO 3 chambres...\n",
       "4      Apt 208 m² moderne 3 chambres terrasse ensolei...\n",
       "                             ...                        \n",
       "622    Appartement à l'achat à Marjane. 1 Pièce. Bell...\n",
       "623    Maison avec un surface de 125 m2 à Akkari Raba...\n",
       "624              Vente appartement haut standing\\n\\t\\t\\t\n",
       "625                         Appartement à vendre\\n\\t\\t\\t\n",
       "626        Joli Appartement Paisible et sécurisé\\n\\t\\t\\t\n",
       "Name: Title, Length: 627, dtype: object"
      ]
     },
     "execution_count": 8,
     "metadata": {},
     "output_type": "execute_result"
    }
   ],
   "source": [
    "all_data['Title']"
   ]
  },
  {
   "cell_type": "code",
   "execution_count": 9,
   "id": "a4d5886f",
   "metadata": {},
   "outputs": [
    {
     "data": {
      "text/plain": [
       "0               Villa 558 m² CIL proche marché à retaper\n",
       "1      Villa 1618 m² commerciale LCS proche Route de Fès\n",
       "2             Villa 3688 m² 5 chambres à retaper IMPASSE\n",
       "3         Apt 185 m² 3ème étage Résidence RIO 3 chambres\n",
       "4      Apt 208 m² moderne 3 chambres terrasse ensolei...\n",
       "                             ...                        \n",
       "622    Appartement à l'achat à Marjane. 1 Pièce. Bell...\n",
       "623      Maison avec un surface de 125 m2 à Akkari Rabat\n",
       "624                      Vente appartement haut standing\n",
       "625                                 Appartement à vendre\n",
       "626                Joli Appartement Paisible et sécurisé\n",
       "Name: Title, Length: 627, dtype: object"
      ]
     },
     "execution_count": 9,
     "metadata": {},
     "output_type": "execute_result"
    }
   ],
   "source": [
    "all_data['Title'] = all_data['Title'].apply(lambda x: x.strip(\"\\n\\t\\t\\t\"))\n",
    "all_data['Title']"
   ]
  },
  {
   "cell_type": "code",
   "execution_count": 10,
   "id": "6ea67cd7",
   "metadata": {},
   "outputs": [
    {
     "data": {
      "text/plain": [
       "0      \\n\\n\\t\\t\\t\\t\\t558\\n\\t\\t\\t\\t\\tm²\\n\\t\\t\\t\\t\\n3 P...\n",
       "1      \\n\\n\\t\\t\\t\\t\\t1618\\n\\t\\t\\t\\t\\tm²\\n\\t\\t\\t\\t\\n3 ...\n",
       "2      \\n\\n\\t\\t\\t\\t\\t3688\\n\\t\\t\\t\\t\\tm²\\n\\t\\t\\t\\t\\n3 ...\n",
       "3      \\n\\n\\t\\t\\t\\t\\t178\\n\\t\\t\\t\\t\\tm²\\n\\t\\t\\t\\t\\n3 P...\n",
       "4      \\n\\n\\t\\t\\t\\t\\t208\\n\\t\\t\\t\\t\\tm²\\n\\t\\t\\t\\t\\n3 P...\n",
       "                             ...                        \n",
       "622    \\n\\n\\t\\t\\t\\t\\t55\\n\\t\\t\\t\\t\\tm²\\n\\t\\t\\t\\t\\n2 Pi...\n",
       "623    \\n\\n\\t\\t\\t\\t\\t125\\n\\t\\t\\t\\t\\tm²\\n\\t\\t\\t\\t\\n4 P...\n",
       "624    \\n\\n\\t\\t\\t\\t\\t95\\n\\t\\t\\t\\t\\tm²\\n\\t\\t\\t\\t\\n3 Pi...\n",
       "625    \\n\\n\\t\\t\\t\\t\\t160\\n\\t\\t\\t\\t\\tm²\\n\\t\\t\\t\\t\\n3 P...\n",
       "626    \\n\\n\\t\\t\\t\\t\\t93\\n\\t\\t\\t\\t\\tm²\\n\\t\\t\\t\\t\\n2 Pi...\n",
       "Name: Pieces, Length: 627, dtype: object"
      ]
     },
     "execution_count": 10,
     "metadata": {},
     "output_type": "execute_result"
    }
   ],
   "source": [
    "all_data ['Pieces']"
   ]
  },
  {
   "cell_type": "code",
   "execution_count": 11,
   "id": "c6bfbb63",
   "metadata": {},
   "outputs": [
    {
     "data": {
      "text/plain": [
       "0       558\\n\\t\\t\\t\\t\\tm²\\n\\t\\t\\t\\t\\n3 Pièces\\n3 Cham...\n",
       "1       1618\\n\\t\\t\\t\\t\\tm²\\n\\t\\t\\t\\t\\n3 Pièces\\n3 Cha...\n",
       "2       3688\\n\\t\\t\\t\\t\\tm²\\n\\t\\t\\t\\t\\n3 Pièces\\n5 Cha...\n",
       "3       178\\n\\t\\t\\t\\t\\tm²\\n\\t\\t\\t\\t\\n3 Pièces\\n3 Cham...\n",
       "4       208\\n\\t\\t\\t\\t\\tm²\\n\\t\\t\\t\\t\\n3 Pièces\\n3 Cham...\n",
       "                             ...                        \n",
       "622     55\\n\\t\\t\\t\\t\\tm²\\n\\t\\t\\t\\t\\n2 Pièces\\n1 Chamb...\n",
       "623     125\\n\\t\\t\\t\\t\\tm²\\n\\t\\t\\t\\t\\n4 Pièces\\n4 Cham...\n",
       "624     95\\n\\t\\t\\t\\t\\tm²\\n\\t\\t\\t\\t\\n3 Pièces\\n3 Chamb...\n",
       "625     160\\n\\t\\t\\t\\t\\tm²\\n\\t\\t\\t\\t\\n3 Pièces\\n2 Cham...\n",
       "626     93\\n\\t\\t\\t\\t\\tm²\\n\\t\\t\\t\\t\\n2 Pièces\\n2 Chamb...\n",
       "Name: Pieces, Length: 627, dtype: object"
      ]
     },
     "execution_count": 11,
     "metadata": {},
     "output_type": "execute_result"
    }
   ],
   "source": [
    "all_data['Pieces'] = all_data['Pieces'].str.replace(r'\\n\\n\\t\\t\\t\\t\\t',' ', regex=True)\n",
    "all_data['Pieces']"
   ]
  },
  {
   "cell_type": "code",
   "execution_count": 12,
   "id": "33c246a3",
   "metadata": {},
   "outputs": [
    {
     "data": {
      "text/plain": [
       "0       558 m²\\n\\t\\t\\t\\t\\n3 Pièces\\n3 Chambres\\n2 Sal...\n",
       "1       1618 m²\\n\\t\\t\\t\\t\\n3 Pièces\\n3 Chambres\\n3 Sa...\n",
       "2       3688 m²\\n\\t\\t\\t\\t\\n3 Pièces\\n5 Chambres\\n3 Sa...\n",
       "3       178 m²\\n\\t\\t\\t\\t\\n3 Pièces\\n3 Chambres\\n2 Sal...\n",
       "4       208 m²\\n\\t\\t\\t\\t\\n3 Pièces\\n3 Chambres\\n2 Sal...\n",
       "                             ...                        \n",
       "622     55 m²\\n\\t\\t\\t\\t\\n2 Pièces\\n1 Chambre\\n1 Salle...\n",
       "623     125 m²\\n\\t\\t\\t\\t\\n4 Pièces\\n4 Chambres\\n1 Sal...\n",
       "624     95 m²\\n\\t\\t\\t\\t\\n3 Pièces\\n3 Chambres\\n2 Sall...\n",
       "625     160 m²\\n\\t\\t\\t\\t\\n3 Pièces\\n2 Chambres\\n2 Sal...\n",
       "626     93 m²\\n\\t\\t\\t\\t\\n2 Pièces\\n2 Chambres\\n1 Sall...\n",
       "Name: Pieces, Length: 627, dtype: object"
      ]
     },
     "execution_count": 12,
     "metadata": {},
     "output_type": "execute_result"
    }
   ],
   "source": [
    "all_data['Pieces'] = all_data['Pieces'].str.replace(r'\\n\\t\\t\\t\\t\\t',' ', regex=True)\n",
    "all_data['Pieces']"
   ]
  },
  {
   "cell_type": "code",
   "execution_count": 13,
   "id": "dfb5238e",
   "metadata": {},
   "outputs": [
    {
     "data": {
      "text/plain": [
       "0       558 m² \\t\\t\\t\\t 3 Pièces 3 Chambres 2 Salles ...\n",
       "1       1618 m² \\t\\t\\t\\t 3 Pièces 3 Chambres 3 Salles...\n",
       "2       3688 m² \\t\\t\\t\\t 3 Pièces 5 Chambres 3 Salles...\n",
       "3       178 m² \\t\\t\\t\\t 3 Pièces 3 Chambres 2 Salles ...\n",
       "4       208 m² \\t\\t\\t\\t 3 Pièces 3 Chambres 2 Salles ...\n",
       "                             ...                        \n",
       "622     55 m² \\t\\t\\t\\t 2 Pièces 1 Chambre 1 Salle de ...\n",
       "623     125 m² \\t\\t\\t\\t 4 Pièces 4 Chambres 1 Salle d...\n",
       "624     95 m² \\t\\t\\t\\t 3 Pièces 3 Chambres 2 Salles d...\n",
       "625     160 m² \\t\\t\\t\\t 3 Pièces 2 Chambres 2 Salles ...\n",
       "626     93 m² \\t\\t\\t\\t 2 Pièces 2 Chambres 1 Salle de...\n",
       "Name: Pieces, Length: 627, dtype: object"
      ]
     },
     "execution_count": 13,
     "metadata": {},
     "output_type": "execute_result"
    }
   ],
   "source": [
    "all_data['Pieces'] = all_data['Pieces'].str.replace(r'\\n',' ', regex=True)\n",
    "all_data['Pieces']"
   ]
  },
  {
   "cell_type": "code",
   "execution_count": 14,
   "id": "557127e7",
   "metadata": {},
   "outputs": [
    {
     "data": {
      "text/plain": [
       "0       558 m²   3 Pièces 3 Chambres 2 Salles de bain...\n",
       "1       1618 m²   3 Pièces 3 Chambres 3 Salles de bai...\n",
       "2       3688 m²   3 Pièces 5 Chambres 3 Salles de bai...\n",
       "3       178 m²   3 Pièces 3 Chambres 2 Salles de bain...\n",
       "4       208 m²   3 Pièces 3 Chambres 2 Salles de bain...\n",
       "                             ...                        \n",
       "622     55 m²   2 Pièces 1 Chambre 1 Salle de bain No...\n",
       "623     125 m²   4 Pièces 4 Chambres 1 Salle de bain ...\n",
       "624     95 m²   3 Pièces 3 Chambres 2 Salles de bains...\n",
       "625     160 m²   3 Pièces 2 Chambres 2 Salles de bain...\n",
       "626     93 m²   2 Pièces 2 Chambres 1 Salle de bain B...\n",
       "Name: Pieces, Length: 627, dtype: object"
      ]
     },
     "execution_count": 14,
     "metadata": {},
     "output_type": "execute_result"
    }
   ],
   "source": [
    "all_data['Pieces'] = all_data['Pieces'].str.replace(r'\\t\\t\\t\\t',' ', regex=True)\n",
    "all_data['Pieces']"
   ]
  },
  {
   "cell_type": "code",
   "execution_count": 15,
   "id": "08943dc9",
   "metadata": {},
   "outputs": [
    {
     "data": {
      "text/plain": [
       "0       558 m²  3 Pièces 3 Chambres 2 Salles de bains...\n",
       "1       1618 m²  3 Pièces 3 Chambres 3 Salles de bain...\n",
       "2       3688 m²  3 Pièces 5 Chambres 3 Salles de bain...\n",
       "3       178 m²  3 Pièces 3 Chambres 2 Salles de bains...\n",
       "4       208 m²  3 Pièces 3 Chambres 2 Salles de bains...\n",
       "                             ...                        \n",
       "622     55 m²  2 Pièces 1 Chambre 1 Salle de bain Nou...\n",
       "623     125 m²  4 Pièces 4 Chambres 1 Salle de bain À...\n",
       "624     95 m²  3 Pièces 3 Chambres 2 Salles de bains ...\n",
       "625     160 m²  3 Pièces 2 Chambres 2 Salles de bains...\n",
       "626     93 m²  2 Pièces 2 Chambres 1 Salle de bain Bo...\n",
       "Name: Pieces, Length: 627, dtype: object"
      ]
     },
     "execution_count": 15,
     "metadata": {},
     "output_type": "execute_result"
    }
   ],
   "source": [
    "all_data['Pieces'] = all_data['Pieces'].str.replace(r'  ',' ', regex=True)\n",
    "all_data['Pieces']"
   ]
  },
  {
   "cell_type": "code",
   "execution_count": 16,
   "id": "71c33e6a",
   "metadata": {},
   "outputs": [
    {
     "data": {
      "text/plain": [
       "0                                                     []\n",
       "1      ['Jardin', 'Garage', '\\n\\t\\t\\t\\t\\t\\t\\t\\t\\t\\t\\t...\n",
       "2              ['Piscine', 'Salon Marocain', 'Cheminée']\n",
       "3      ['Terrasse', 'Garage', 'Ascenseur', 'Piscine',...\n",
       "4      ['Terrasse', 'Cheminée', '\\n\\t\\t\\t\\t\\t\\t\\t\\t\\t...\n",
       "                             ...                        \n",
       "622    ['Jardin', 'Terrasse', 'Garage', 'Vue sur mer'...\n",
       "623                                         ['Sécurité']\n",
       "624    ['Terrasse', 'Garage', 'Ascenseur', 'Concierge...\n",
       "625     ['Terrasse', 'Garage', 'Ascenseur', 'Concierge']\n",
       "626    ['Terrasse', 'Salon Marocain', '\\n\\t\\t\\t\\t\\t\\t...\n",
       "Name: Caractéristiques, Length: 627, dtype: object"
      ]
     },
     "execution_count": 16,
     "metadata": {},
     "output_type": "execute_result"
    }
   ],
   "source": [
    "all_data['Caractéristiques']"
   ]
  },
  {
   "cell_type": "code",
   "execution_count": 17,
   "id": "15b2903e",
   "metadata": {},
   "outputs": [
    {
     "data": {
      "text/plain": [
       "0                                                     []\n",
       "1      ['Jardin', 'Garage', '\\n\\t\\t\\t\\t\\t\\t\\t\\t\\t\\t\\t...\n",
       "2              ['Piscine', 'Salon Marocain', 'Cheminée']\n",
       "3      ['Terrasse', 'Garage', 'Ascenseur', 'Piscine',...\n",
       "4      ['Terrasse', 'Cheminée', '\\n\\t\\t\\t\\t\\t\\t\\t\\t\\t...\n",
       "                             ...                        \n",
       "622    ['Jardin', 'Terrasse', 'Garage', 'Vue sur mer'...\n",
       "623                                         ['Sécurité']\n",
       "624    ['Terrasse', 'Garage', 'Ascenseur', 'Concierge...\n",
       "625     ['Terrasse', 'Garage', 'Ascenseur', 'Concierge']\n",
       "626    ['Terrasse', 'Salon Marocain', '\\n\\t\\t\\t\\t\\t\\t...\n",
       "Name: Caractéristiques, Length: 627, dtype: object"
      ]
     },
     "execution_count": 17,
     "metadata": {},
     "output_type": "execute_result"
    }
   ],
   "source": [
    "all_data['Caractéristiques'] = all_data['Caractéristiques'].str.replace(r'\\n\\t\\t\\t\\t\\t\\t\\t\\t\\t\\t\\t',' ', regex=True)\n",
    "all_data['Caractéristiques']"
   ]
  },
  {
   "cell_type": "code",
   "execution_count": 18,
   "id": "38b1e1f0",
   "metadata": {},
   "outputs": [
    {
     "data": {
      "text/plain": [
       "0                                                     []\n",
       "1      ['Jardin', 'Garage', '\\n\\t\\t\\t\\t\\t\\t\\t\\t\\t\\t\\t...\n",
       "2              ['Piscine', 'Salon Marocain', 'Cheminée']\n",
       "3      ['Terrasse', 'Garage', 'Ascenseur', 'Piscine',...\n",
       "4      ['Terrasse', 'Cheminée', '\\n\\t\\t\\t\\t\\t\\t\\t\\t\\t...\n",
       "                             ...                        \n",
       "622    ['Jardin', 'Terrasse', 'Garage', 'Vue sur mer'...\n",
       "623                                         ['Sécurité']\n",
       "624    ['Terrasse', 'Garage', 'Ascenseur', 'Concierge...\n",
       "625     ['Terrasse', 'Garage', 'Ascenseur', 'Concierge']\n",
       "626    ['Terrasse', 'Salon Marocain', '\\n\\t\\t\\t\\t\\t\\t...\n",
       "Name: Caractéristiques, Length: 627, dtype: object"
      ]
     },
     "execution_count": 18,
     "metadata": {},
     "output_type": "execute_result"
    }
   ],
   "source": [
    "all_data['Caractéristiques'] = all_data['Caractéristiques'].str.replace(r'\\n\\t\\t\\t\\t\\t\\t\\t\\t\\t\\t\\tType du sol:\\n\\t\\t\\t\\t\\t\\t\\t\\t\\t\\t\\t Carrelage\\n\\t\\t\\t\\t\\t\\t\\t\\t\\t\\t','', regex=True)\n",
    "all_data['Caractéristiques']\n"
   ]
  },
  {
   "cell_type": "code",
   "execution_count": 19,
   "id": "18d38369",
   "metadata": {},
   "outputs": [
    {
     "data": {
      "text/html": [
       "<div>\n",
       "<style scoped>\n",
       "    .dataframe tbody tr th:only-of-type {\n",
       "        vertical-align: middle;\n",
       "    }\n",
       "\n",
       "    .dataframe tbody tr th {\n",
       "        vertical-align: top;\n",
       "    }\n",
       "\n",
       "    .dataframe thead th {\n",
       "        text-align: right;\n",
       "    }\n",
       "</style>\n",
       "<table border=\"1\" class=\"dataframe\">\n",
       "  <thead>\n",
       "    <tr style=\"text-align: right;\">\n",
       "      <th></th>\n",
       "      <th>Unnamed: 0</th>\n",
       "      <th>Title</th>\n",
       "      <th>Location</th>\n",
       "      <th>Price</th>\n",
       "      <th>Caractéristiques</th>\n",
       "      <th>Pieces</th>\n",
       "      <th>Description</th>\n",
       "      <th>Pictures</th>\n",
       "      <th>Télephone</th>\n",
       "    </tr>\n",
       "  </thead>\n",
       "  <tbody>\n",
       "    <tr>\n",
       "      <th>0</th>\n",
       "      <td>0</td>\n",
       "      <td>Villa 558 m² CIL proche marché à retaper</td>\n",
       "      <td>CIL (Hay Salam) à Casablanca</td>\n",
       "      <td>8 600 000 DH</td>\n",
       "      <td>[]</td>\n",
       "      <td>558 m²  3 Pièces 3 Chambres 2 Salles de bains...</td>\n",
       "      <td>Villa construite sur un terrain de 558 m², com...</td>\n",
       "      <td>['https://www.mubawab-media.com/ad/7/304/840F/...</td>\n",
       "      <td>06601XXXXX</td>\n",
       "    </tr>\n",
       "    <tr>\n",
       "      <th>1</th>\n",
       "      <td>1</td>\n",
       "      <td>Villa 1618 m² commerciale LCS proche Route de Fès</td>\n",
       "      <td>Californie à Casablanca</td>\n",
       "      <td>not defined</td>\n",
       "      <td>['Jardin', 'Garage', '\\n\\t\\t\\t\\t\\t\\t\\t\\t\\t\\t\\t...</td>\n",
       "      <td>1618 m²  3 Pièces 3 Chambres 3 Salles de bain...</td>\n",
       "      <td>Villa commerciale (angle), construite sur un t...</td>\n",
       "      <td>['https://www.mubawab-media.com/ad/7/304/830F/...</td>\n",
       "      <td>06601XXXXX</td>\n",
       "    </tr>\n",
       "    <tr>\n",
       "      <th>2</th>\n",
       "      <td>2</td>\n",
       "      <td>Villa 3688 m² 5 chambres à retaper IMPASSE</td>\n",
       "      <td>Anfa à Casablanca</td>\n",
       "      <td>53 000 000 DH</td>\n",
       "      <td>['Piscine', 'Salon Marocain', 'Cheminée']</td>\n",
       "      <td>3688 m²  3 Pièces 5 Chambres 3 Salles de bain...</td>\n",
       "      <td>Villa construite sur un terrain de 3688 m², en...</td>\n",
       "      <td>['https://www.mubawab-media.com/ad/7/304/822F/...</td>\n",
       "      <td>06601XXXXX</td>\n",
       "    </tr>\n",
       "    <tr>\n",
       "      <th>3</th>\n",
       "      <td>3</td>\n",
       "      <td>Apt 185 m² 3ème étage Résidence RIO 3 chambres</td>\n",
       "      <td>Ain Diab à Casablanca</td>\n",
       "      <td>3 100 000 DH</td>\n",
       "      <td>['Terrasse', 'Garage', 'Ascenseur', 'Piscine',...</td>\n",
       "      <td>178 m²  3 Pièces 3 Chambres 2 Salles de bains...</td>\n",
       "      <td>Apt de 185 m² (dont 12 m² de terrasse/garage),...</td>\n",
       "      <td>['https://www.mubawab-media.com/ad/6/211/103F/...</td>\n",
       "      <td>06601XXXXX</td>\n",
       "    </tr>\n",
       "    <tr>\n",
       "      <th>4</th>\n",
       "      <td>4</td>\n",
       "      <td>Apt 208 m² moderne 3 chambres terrasse ensolei...</td>\n",
       "      <td>Racine à Casablanca</td>\n",
       "      <td>3 900 000 DH</td>\n",
       "      <td>['Terrasse', 'Cheminée', '\\n\\t\\t\\t\\t\\t\\t\\t\\t\\t...</td>\n",
       "      <td>208 m²  3 Pièces 3 Chambres 2 Salles de bains...</td>\n",
       "      <td>Apt de 208 m² (dont 170 m² habitables), situé ...</td>\n",
       "      <td>['https://www.mubawab-media.com/ad/7/106/612F/...</td>\n",
       "      <td>06601XXXXX</td>\n",
       "    </tr>\n",
       "    <tr>\n",
       "      <th>...</th>\n",
       "      <td>...</td>\n",
       "      <td>...</td>\n",
       "      <td>...</td>\n",
       "      <td>...</td>\n",
       "      <td>...</td>\n",
       "      <td>...</td>\n",
       "      <td>...</td>\n",
       "      <td>...</td>\n",
       "      <td>...</td>\n",
       "    </tr>\n",
       "    <tr>\n",
       "      <th>622</th>\n",
       "      <td>622</td>\n",
       "      <td>Appartement à l'achat à Marjane. 1 Pièce. Bell...</td>\n",
       "      <td>Marjane à Tanger</td>\n",
       "      <td>not defined</td>\n",
       "      <td>['Jardin', 'Terrasse', 'Garage', 'Vue sur mer'...</td>\n",
       "      <td>55 m²  2 Pièces 1 Chambre 1 Salle de bain Nou...</td>\n",
       "      <td>Achetez votre appartement. 2 pièces, 1 salle d...</td>\n",
       "      <td>['https://www.mubawab-media.com/ad/7/381/267F/...</td>\n",
       "      <td>07078XXXXX</td>\n",
       "    </tr>\n",
       "    <tr>\n",
       "      <th>623</th>\n",
       "      <td>623</td>\n",
       "      <td>Maison avec un surface de 125 m2 à Akkari Rabat</td>\n",
       "      <td>Al Kouass à Rabat</td>\n",
       "      <td>not defined</td>\n",
       "      <td>['Sécurité']</td>\n",
       "      <td>125 m²  4 Pièces 4 Chambres 1 Salle de bain À...</td>\n",
       "      <td>une maison situé dans le quartier de El Akkari...</td>\n",
       "      <td>['https://www.mubawab-media.com/ad/7/381/232F/...</td>\n",
       "      <td>06661XXXXX</td>\n",
       "    </tr>\n",
       "    <tr>\n",
       "      <th>624</th>\n",
       "      <td>624</td>\n",
       "      <td>Vente appartement haut standing</td>\n",
       "      <td>Oulfa à Casablanca</td>\n",
       "      <td>1 120 000 DH</td>\n",
       "      <td>['Terrasse', 'Garage', 'Ascenseur', 'Concierge...</td>\n",
       "      <td>95 m²  3 Pièces 3 Chambres 2 Salles de bains ...</td>\n",
       "      <td>Je mets en vente mon appartement de Haut stand...</td>\n",
       "      <td>['https://www.mubawab-media.com/ad/7/381/238F/...</td>\n",
       "      <td>06681XXXXX</td>\n",
       "    </tr>\n",
       "    <tr>\n",
       "      <th>625</th>\n",
       "      <td>625</td>\n",
       "      <td>Appartement à vendre</td>\n",
       "      <td>Racine Extension à Casablanca</td>\n",
       "      <td>not defined</td>\n",
       "      <td>['Terrasse', 'Garage', 'Ascenseur', 'Concierge']</td>\n",
       "      <td>160 m²  3 Pièces 2 Chambres 2 Salles de bains...</td>\n",
       "      <td>Appartement à vendre à quartier Gauthier à Cas...</td>\n",
       "      <td>['https://www.mubawab-media.com/ad/7/381/234F/...</td>\n",
       "      <td>06612XXXXX</td>\n",
       "    </tr>\n",
       "    <tr>\n",
       "      <th>626</th>\n",
       "      <td>626</td>\n",
       "      <td>Joli Appartement Paisible et sécurisé</td>\n",
       "      <td>Oulfa à Casablanca</td>\n",
       "      <td>not defined</td>\n",
       "      <td>['Terrasse', 'Salon Marocain', '\\n\\t\\t\\t\\t\\t\\t...</td>\n",
       "      <td>93 m²  2 Pièces 2 Chambres 1 Salle de bain Bo...</td>\n",
       "      <td>Particulier met en vente jolie appartement sur...</td>\n",
       "      <td>['https://www.mubawab-media.com/ad/7/381/236F/...</td>\n",
       "      <td>07627XXXXX</td>\n",
       "    </tr>\n",
       "  </tbody>\n",
       "</table>\n",
       "<p>627 rows × 9 columns</p>\n",
       "</div>"
      ],
      "text/plain": [
       "     Unnamed: 0                                              Title  \\\n",
       "0             0           Villa 558 m² CIL proche marché à retaper   \n",
       "1             1  Villa 1618 m² commerciale LCS proche Route de Fès   \n",
       "2             2         Villa 3688 m² 5 chambres à retaper IMPASSE   \n",
       "3             3     Apt 185 m² 3ème étage Résidence RIO 3 chambres   \n",
       "4             4  Apt 208 m² moderne 3 chambres terrasse ensolei...   \n",
       "..          ...                                                ...   \n",
       "622         622  Appartement à l'achat à Marjane. 1 Pièce. Bell...   \n",
       "623         623    Maison avec un surface de 125 m2 à Akkari Rabat   \n",
       "624         624                    Vente appartement haut standing   \n",
       "625         625                               Appartement à vendre   \n",
       "626         626              Joli Appartement Paisible et sécurisé   \n",
       "\n",
       "                          Location          Price  \\\n",
       "0     CIL (Hay Salam) à Casablanca   8 600 000 DH   \n",
       "1          Californie à Casablanca    not defined   \n",
       "2                Anfa à Casablanca  53 000 000 DH   \n",
       "3            Ain Diab à Casablanca   3 100 000 DH   \n",
       "4              Racine à Casablanca   3 900 000 DH   \n",
       "..                             ...            ...   \n",
       "622               Marjane à Tanger    not defined   \n",
       "623              Al Kouass à Rabat    not defined   \n",
       "624             Oulfa à Casablanca   1 120 000 DH   \n",
       "625  Racine Extension à Casablanca    not defined   \n",
       "626             Oulfa à Casablanca    not defined   \n",
       "\n",
       "                                      Caractéristiques  \\\n",
       "0                                                   []   \n",
       "1    ['Jardin', 'Garage', '\\n\\t\\t\\t\\t\\t\\t\\t\\t\\t\\t\\t...   \n",
       "2            ['Piscine', 'Salon Marocain', 'Cheminée']   \n",
       "3    ['Terrasse', 'Garage', 'Ascenseur', 'Piscine',...   \n",
       "4    ['Terrasse', 'Cheminée', '\\n\\t\\t\\t\\t\\t\\t\\t\\t\\t...   \n",
       "..                                                 ...   \n",
       "622  ['Jardin', 'Terrasse', 'Garage', 'Vue sur mer'...   \n",
       "623                                       ['Sécurité']   \n",
       "624  ['Terrasse', 'Garage', 'Ascenseur', 'Concierge...   \n",
       "625   ['Terrasse', 'Garage', 'Ascenseur', 'Concierge']   \n",
       "626  ['Terrasse', 'Salon Marocain', '\\n\\t\\t\\t\\t\\t\\t...   \n",
       "\n",
       "                                                Pieces  \\\n",
       "0     558 m²  3 Pièces 3 Chambres 2 Salles de bains...   \n",
       "1     1618 m²  3 Pièces 3 Chambres 3 Salles de bain...   \n",
       "2     3688 m²  3 Pièces 5 Chambres 3 Salles de bain...   \n",
       "3     178 m²  3 Pièces 3 Chambres 2 Salles de bains...   \n",
       "4     208 m²  3 Pièces 3 Chambres 2 Salles de bains...   \n",
       "..                                                 ...   \n",
       "622   55 m²  2 Pièces 1 Chambre 1 Salle de bain Nou...   \n",
       "623   125 m²  4 Pièces 4 Chambres 1 Salle de bain À...   \n",
       "624   95 m²  3 Pièces 3 Chambres 2 Salles de bains ...   \n",
       "625   160 m²  3 Pièces 2 Chambres 2 Salles de bains...   \n",
       "626   93 m²  2 Pièces 2 Chambres 1 Salle de bain Bo...   \n",
       "\n",
       "                                           Description  \\\n",
       "0    Villa construite sur un terrain de 558 m², com...   \n",
       "1    Villa commerciale (angle), construite sur un t...   \n",
       "2    Villa construite sur un terrain de 3688 m², en...   \n",
       "3    Apt de 185 m² (dont 12 m² de terrasse/garage),...   \n",
       "4    Apt de 208 m² (dont 170 m² habitables), situé ...   \n",
       "..                                                 ...   \n",
       "622  Achetez votre appartement. 2 pièces, 1 salle d...   \n",
       "623  une maison situé dans le quartier de El Akkari...   \n",
       "624  Je mets en vente mon appartement de Haut stand...   \n",
       "625  Appartement à vendre à quartier Gauthier à Cas...   \n",
       "626  Particulier met en vente jolie appartement sur...   \n",
       "\n",
       "                                              Pictures   Télephone  \n",
       "0    ['https://www.mubawab-media.com/ad/7/304/840F/...  06601XXXXX  \n",
       "1    ['https://www.mubawab-media.com/ad/7/304/830F/...  06601XXXXX  \n",
       "2    ['https://www.mubawab-media.com/ad/7/304/822F/...  06601XXXXX  \n",
       "3    ['https://www.mubawab-media.com/ad/6/211/103F/...  06601XXXXX  \n",
       "4    ['https://www.mubawab-media.com/ad/7/106/612F/...  06601XXXXX  \n",
       "..                                                 ...         ...  \n",
       "622  ['https://www.mubawab-media.com/ad/7/381/267F/...  07078XXXXX  \n",
       "623  ['https://www.mubawab-media.com/ad/7/381/232F/...  06661XXXXX  \n",
       "624  ['https://www.mubawab-media.com/ad/7/381/238F/...  06681XXXXX  \n",
       "625  ['https://www.mubawab-media.com/ad/7/381/234F/...  06612XXXXX  \n",
       "626  ['https://www.mubawab-media.com/ad/7/381/236F/...  07627XXXXX  \n",
       "\n",
       "[627 rows x 9 columns]"
      ]
     },
     "execution_count": 19,
     "metadata": {},
     "output_type": "execute_result"
    }
   ],
   "source": [
    "all_data"
   ]
  },
  {
   "cell_type": "code",
   "execution_count": 20,
   "id": "1b8efaa9",
   "metadata": {},
   "outputs": [
    {
     "data": {
      "text/html": [
       "<div>\n",
       "<style scoped>\n",
       "    .dataframe tbody tr th:only-of-type {\n",
       "        vertical-align: middle;\n",
       "    }\n",
       "\n",
       "    .dataframe tbody tr th {\n",
       "        vertical-align: top;\n",
       "    }\n",
       "\n",
       "    .dataframe thead th {\n",
       "        text-align: right;\n",
       "    }\n",
       "</style>\n",
       "<table border=\"1\" class=\"dataframe\">\n",
       "  <thead>\n",
       "    <tr style=\"text-align: right;\">\n",
       "      <th></th>\n",
       "      <th>Unnamed: 0</th>\n",
       "      <th>Title</th>\n",
       "      <th>Location</th>\n",
       "      <th>Price</th>\n",
       "      <th>Caractéristiques</th>\n",
       "      <th>Pieces</th>\n",
       "      <th>Description</th>\n",
       "      <th>Pictures</th>\n",
       "      <th>Télephone</th>\n",
       "      <th>Surface</th>\n",
       "    </tr>\n",
       "  </thead>\n",
       "  <tbody>\n",
       "    <tr>\n",
       "      <th>0</th>\n",
       "      <td>0</td>\n",
       "      <td>Villa 558 m² CIL proche marché à retaper</td>\n",
       "      <td>CIL (Hay Salam) à Casablanca</td>\n",
       "      <td>8 600 000 DH</td>\n",
       "      <td>[]</td>\n",
       "      <td>558 m²  3 Pièces 3 Chambres 2 Salles de bains...</td>\n",
       "      <td>Villa construite sur un terrain de 558 m², com...</td>\n",
       "      <td>['https://www.mubawab-media.com/ad/7/304/840F/...</td>\n",
       "      <td>06601XXXXX</td>\n",
       "      <td>558 m²</td>\n",
       "    </tr>\n",
       "    <tr>\n",
       "      <th>1</th>\n",
       "      <td>1</td>\n",
       "      <td>Villa 1618 m² commerciale LCS proche Route de Fès</td>\n",
       "      <td>Californie à Casablanca</td>\n",
       "      <td>not defined</td>\n",
       "      <td>['Jardin', 'Garage', '\\n\\t\\t\\t\\t\\t\\t\\t\\t\\t\\t\\t...</td>\n",
       "      <td>1618 m²  3 Pièces 3 Chambres 3 Salles de bain...</td>\n",
       "      <td>Villa commerciale (angle), construite sur un t...</td>\n",
       "      <td>['https://www.mubawab-media.com/ad/7/304/830F/...</td>\n",
       "      <td>06601XXXXX</td>\n",
       "      <td>1618 m²</td>\n",
       "    </tr>\n",
       "    <tr>\n",
       "      <th>2</th>\n",
       "      <td>2</td>\n",
       "      <td>Villa 3688 m² 5 chambres à retaper IMPASSE</td>\n",
       "      <td>Anfa à Casablanca</td>\n",
       "      <td>53 000 000 DH</td>\n",
       "      <td>['Piscine', 'Salon Marocain', 'Cheminée']</td>\n",
       "      <td>3688 m²  3 Pièces 5 Chambres 3 Salles de bain...</td>\n",
       "      <td>Villa construite sur un terrain de 3688 m², en...</td>\n",
       "      <td>['https://www.mubawab-media.com/ad/7/304/822F/...</td>\n",
       "      <td>06601XXXXX</td>\n",
       "      <td>3688 m²</td>\n",
       "    </tr>\n",
       "    <tr>\n",
       "      <th>3</th>\n",
       "      <td>3</td>\n",
       "      <td>Apt 185 m² 3ème étage Résidence RIO 3 chambres</td>\n",
       "      <td>Ain Diab à Casablanca</td>\n",
       "      <td>3 100 000 DH</td>\n",
       "      <td>['Terrasse', 'Garage', 'Ascenseur', 'Piscine',...</td>\n",
       "      <td>178 m²  3 Pièces 3 Chambres 2 Salles de bains...</td>\n",
       "      <td>Apt de 185 m² (dont 12 m² de terrasse/garage),...</td>\n",
       "      <td>['https://www.mubawab-media.com/ad/6/211/103F/...</td>\n",
       "      <td>06601XXXXX</td>\n",
       "      <td>178 m²</td>\n",
       "    </tr>\n",
       "    <tr>\n",
       "      <th>4</th>\n",
       "      <td>4</td>\n",
       "      <td>Apt 208 m² moderne 3 chambres terrasse ensolei...</td>\n",
       "      <td>Racine à Casablanca</td>\n",
       "      <td>3 900 000 DH</td>\n",
       "      <td>['Terrasse', 'Cheminée', '\\n\\t\\t\\t\\t\\t\\t\\t\\t\\t...</td>\n",
       "      <td>208 m²  3 Pièces 3 Chambres 2 Salles de bains...</td>\n",
       "      <td>Apt de 208 m² (dont 170 m² habitables), situé ...</td>\n",
       "      <td>['https://www.mubawab-media.com/ad/7/106/612F/...</td>\n",
       "      <td>06601XXXXX</td>\n",
       "      <td>208 m²</td>\n",
       "    </tr>\n",
       "    <tr>\n",
       "      <th>...</th>\n",
       "      <td>...</td>\n",
       "      <td>...</td>\n",
       "      <td>...</td>\n",
       "      <td>...</td>\n",
       "      <td>...</td>\n",
       "      <td>...</td>\n",
       "      <td>...</td>\n",
       "      <td>...</td>\n",
       "      <td>...</td>\n",
       "      <td>...</td>\n",
       "    </tr>\n",
       "    <tr>\n",
       "      <th>622</th>\n",
       "      <td>622</td>\n",
       "      <td>Appartement à l'achat à Marjane. 1 Pièce. Bell...</td>\n",
       "      <td>Marjane à Tanger</td>\n",
       "      <td>not defined</td>\n",
       "      <td>['Jardin', 'Terrasse', 'Garage', 'Vue sur mer'...</td>\n",
       "      <td>55 m²  2 Pièces 1 Chambre 1 Salle de bain Nou...</td>\n",
       "      <td>Achetez votre appartement. 2 pièces, 1 salle d...</td>\n",
       "      <td>['https://www.mubawab-media.com/ad/7/381/267F/...</td>\n",
       "      <td>07078XXXXX</td>\n",
       "      <td>55 m²</td>\n",
       "    </tr>\n",
       "    <tr>\n",
       "      <th>623</th>\n",
       "      <td>623</td>\n",
       "      <td>Maison avec un surface de 125 m2 à Akkari Rabat</td>\n",
       "      <td>Al Kouass à Rabat</td>\n",
       "      <td>not defined</td>\n",
       "      <td>['Sécurité']</td>\n",
       "      <td>125 m²  4 Pièces 4 Chambres 1 Salle de bain À...</td>\n",
       "      <td>une maison situé dans le quartier de El Akkari...</td>\n",
       "      <td>['https://www.mubawab-media.com/ad/7/381/232F/...</td>\n",
       "      <td>06661XXXXX</td>\n",
       "      <td>125 m²</td>\n",
       "    </tr>\n",
       "    <tr>\n",
       "      <th>624</th>\n",
       "      <td>624</td>\n",
       "      <td>Vente appartement haut standing</td>\n",
       "      <td>Oulfa à Casablanca</td>\n",
       "      <td>1 120 000 DH</td>\n",
       "      <td>['Terrasse', 'Garage', 'Ascenseur', 'Concierge...</td>\n",
       "      <td>95 m²  3 Pièces 3 Chambres 2 Salles de bains ...</td>\n",
       "      <td>Je mets en vente mon appartement de Haut stand...</td>\n",
       "      <td>['https://www.mubawab-media.com/ad/7/381/238F/...</td>\n",
       "      <td>06681XXXXX</td>\n",
       "      <td>95 m²</td>\n",
       "    </tr>\n",
       "    <tr>\n",
       "      <th>625</th>\n",
       "      <td>625</td>\n",
       "      <td>Appartement à vendre</td>\n",
       "      <td>Racine Extension à Casablanca</td>\n",
       "      <td>not defined</td>\n",
       "      <td>['Terrasse', 'Garage', 'Ascenseur', 'Concierge']</td>\n",
       "      <td>160 m²  3 Pièces 2 Chambres 2 Salles de bains...</td>\n",
       "      <td>Appartement à vendre à quartier Gauthier à Cas...</td>\n",
       "      <td>['https://www.mubawab-media.com/ad/7/381/234F/...</td>\n",
       "      <td>06612XXXXX</td>\n",
       "      <td>160 m²</td>\n",
       "    </tr>\n",
       "    <tr>\n",
       "      <th>626</th>\n",
       "      <td>626</td>\n",
       "      <td>Joli Appartement Paisible et sécurisé</td>\n",
       "      <td>Oulfa à Casablanca</td>\n",
       "      <td>not defined</td>\n",
       "      <td>['Terrasse', 'Salon Marocain', '\\n\\t\\t\\t\\t\\t\\t...</td>\n",
       "      <td>93 m²  2 Pièces 2 Chambres 1 Salle de bain Bo...</td>\n",
       "      <td>Particulier met en vente jolie appartement sur...</td>\n",
       "      <td>['https://www.mubawab-media.com/ad/7/381/236F/...</td>\n",
       "      <td>07627XXXXX</td>\n",
       "      <td>93 m²</td>\n",
       "    </tr>\n",
       "  </tbody>\n",
       "</table>\n",
       "<p>627 rows × 10 columns</p>\n",
       "</div>"
      ],
      "text/plain": [
       "     Unnamed: 0                                              Title  \\\n",
       "0             0           Villa 558 m² CIL proche marché à retaper   \n",
       "1             1  Villa 1618 m² commerciale LCS proche Route de Fès   \n",
       "2             2         Villa 3688 m² 5 chambres à retaper IMPASSE   \n",
       "3             3     Apt 185 m² 3ème étage Résidence RIO 3 chambres   \n",
       "4             4  Apt 208 m² moderne 3 chambres terrasse ensolei...   \n",
       "..          ...                                                ...   \n",
       "622         622  Appartement à l'achat à Marjane. 1 Pièce. Bell...   \n",
       "623         623    Maison avec un surface de 125 m2 à Akkari Rabat   \n",
       "624         624                    Vente appartement haut standing   \n",
       "625         625                               Appartement à vendre   \n",
       "626         626              Joli Appartement Paisible et sécurisé   \n",
       "\n",
       "                          Location          Price  \\\n",
       "0     CIL (Hay Salam) à Casablanca   8 600 000 DH   \n",
       "1          Californie à Casablanca    not defined   \n",
       "2                Anfa à Casablanca  53 000 000 DH   \n",
       "3            Ain Diab à Casablanca   3 100 000 DH   \n",
       "4              Racine à Casablanca   3 900 000 DH   \n",
       "..                             ...            ...   \n",
       "622               Marjane à Tanger    not defined   \n",
       "623              Al Kouass à Rabat    not defined   \n",
       "624             Oulfa à Casablanca   1 120 000 DH   \n",
       "625  Racine Extension à Casablanca    not defined   \n",
       "626             Oulfa à Casablanca    not defined   \n",
       "\n",
       "                                      Caractéristiques  \\\n",
       "0                                                   []   \n",
       "1    ['Jardin', 'Garage', '\\n\\t\\t\\t\\t\\t\\t\\t\\t\\t\\t\\t...   \n",
       "2            ['Piscine', 'Salon Marocain', 'Cheminée']   \n",
       "3    ['Terrasse', 'Garage', 'Ascenseur', 'Piscine',...   \n",
       "4    ['Terrasse', 'Cheminée', '\\n\\t\\t\\t\\t\\t\\t\\t\\t\\t...   \n",
       "..                                                 ...   \n",
       "622  ['Jardin', 'Terrasse', 'Garage', 'Vue sur mer'...   \n",
       "623                                       ['Sécurité']   \n",
       "624  ['Terrasse', 'Garage', 'Ascenseur', 'Concierge...   \n",
       "625   ['Terrasse', 'Garage', 'Ascenseur', 'Concierge']   \n",
       "626  ['Terrasse', 'Salon Marocain', '\\n\\t\\t\\t\\t\\t\\t...   \n",
       "\n",
       "                                                Pieces  \\\n",
       "0     558 m²  3 Pièces 3 Chambres 2 Salles de bains...   \n",
       "1     1618 m²  3 Pièces 3 Chambres 3 Salles de bain...   \n",
       "2     3688 m²  3 Pièces 5 Chambres 3 Salles de bain...   \n",
       "3     178 m²  3 Pièces 3 Chambres 2 Salles de bains...   \n",
       "4     208 m²  3 Pièces 3 Chambres 2 Salles de bains...   \n",
       "..                                                 ...   \n",
       "622   55 m²  2 Pièces 1 Chambre 1 Salle de bain Nou...   \n",
       "623   125 m²  4 Pièces 4 Chambres 1 Salle de bain À...   \n",
       "624   95 m²  3 Pièces 3 Chambres 2 Salles de bains ...   \n",
       "625   160 m²  3 Pièces 2 Chambres 2 Salles de bains...   \n",
       "626   93 m²  2 Pièces 2 Chambres 1 Salle de bain Bo...   \n",
       "\n",
       "                                           Description  \\\n",
       "0    Villa construite sur un terrain de 558 m², com...   \n",
       "1    Villa commerciale (angle), construite sur un t...   \n",
       "2    Villa construite sur un terrain de 3688 m², en...   \n",
       "3    Apt de 185 m² (dont 12 m² de terrasse/garage),...   \n",
       "4    Apt de 208 m² (dont 170 m² habitables), situé ...   \n",
       "..                                                 ...   \n",
       "622  Achetez votre appartement. 2 pièces, 1 salle d...   \n",
       "623  une maison situé dans le quartier de El Akkari...   \n",
       "624  Je mets en vente mon appartement de Haut stand...   \n",
       "625  Appartement à vendre à quartier Gauthier à Cas...   \n",
       "626  Particulier met en vente jolie appartement sur...   \n",
       "\n",
       "                                              Pictures   Télephone  Surface  \n",
       "0    ['https://www.mubawab-media.com/ad/7/304/840F/...  06601XXXXX   558 m²  \n",
       "1    ['https://www.mubawab-media.com/ad/7/304/830F/...  06601XXXXX  1618 m²  \n",
       "2    ['https://www.mubawab-media.com/ad/7/304/822F/...  06601XXXXX  3688 m²  \n",
       "3    ['https://www.mubawab-media.com/ad/6/211/103F/...  06601XXXXX   178 m²  \n",
       "4    ['https://www.mubawab-media.com/ad/7/106/612F/...  06601XXXXX   208 m²  \n",
       "..                                                 ...         ...      ...  \n",
       "622  ['https://www.mubawab-media.com/ad/7/381/267F/...  07078XXXXX    55 m²  \n",
       "623  ['https://www.mubawab-media.com/ad/7/381/232F/...  06661XXXXX   125 m²  \n",
       "624  ['https://www.mubawab-media.com/ad/7/381/238F/...  06681XXXXX    95 m²  \n",
       "625  ['https://www.mubawab-media.com/ad/7/381/234F/...  06612XXXXX   160 m²  \n",
       "626  ['https://www.mubawab-media.com/ad/7/381/236F/...  07627XXXXX    93 m²  \n",
       "\n",
       "[627 rows x 10 columns]"
      ]
     },
     "execution_count": 20,
     "metadata": {},
     "output_type": "execute_result"
    }
   ],
   "source": [
    "all_data['Surface'] = all_data['Pieces'].apply(lambda x: x.split(\" \")[1]) +\" m²\"\n",
    "all_data\n"
   ]
  },
  {
   "cell_type": "code",
   "execution_count": 21,
   "id": "3824b448",
   "metadata": {},
   "outputs": [],
   "source": [
    "#  # Storing in Excel File   \n",
    "all_data.to_excel(\"/Users/Pro/Desktop/EtlProject_Web-Scraping/Mubawab_Vente/mubawabVente41-60_clean.xlsx\")"
   ]
  },
  {
   "cell_type": "code",
   "execution_count": null,
   "id": "2c59ced3",
   "metadata": {},
   "outputs": [],
   "source": []
  }
 ],
 "metadata": {
  "kernelspec": {
   "display_name": "Python 3 (ipykernel)",
   "language": "python",
   "name": "python3"
  },
  "language_info": {
   "codemirror_mode": {
    "name": "ipython",
    "version": 3
   },
   "file_extension": ".py",
   "mimetype": "text/x-python",
   "name": "python",
   "nbconvert_exporter": "python",
   "pygments_lexer": "ipython3",
   "version": "3.10.2"
  }
 },
 "nbformat": 4,
 "nbformat_minor": 5
}
